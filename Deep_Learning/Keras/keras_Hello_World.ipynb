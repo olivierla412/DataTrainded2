{
 "cells": [
  {
   "cell_type": "markdown",
   "id": "50993892",
   "metadata": {},
   "source": [
    "# Handwritten number recognition using Keras part 1."
   ]
  },
  {
   "cell_type": "code",
   "execution_count": 1,
   "id": "f4320086",
   "metadata": {},
   "outputs": [],
   "source": [
    "#!pip install keras"
   ]
  },
  {
   "cell_type": "code",
   "execution_count": 2,
   "id": "b2f7480d",
   "metadata": {},
   "outputs": [],
   "source": [
    "#!pip install tensorflow"
   ]
  },
  {
   "cell_type": "code",
   "execution_count": 3,
   "id": "81f66462",
   "metadata": {},
   "outputs": [],
   "source": [
    "## From keras.utils import to_categorical ## don't use this\n",
    "\n",
    "#from tensorflow.keras.utils import to_categorical # use this\n",
    "\n",
    "import matplotlib.pyplot as plt\n",
    "from keras.layers import Dense, Flatten\n",
    "from keras.models import Sequential\n",
    "from tensorflow.keras.utils import to_categorical\n",
    "from keras.datasets import mnist\n",
    "from keras import utils\n",
    "\n"
   ]
  },
  {
   "cell_type": "code",
   "execution_count": 4,
   "id": "f1b6fc96",
   "metadata": {},
   "outputs": [],
   "source": [
    "## loading the dataset\n",
    "(x_train,y_train),(x_test,y_test) = mnist.load_data()"
   ]
  },
  {
   "cell_type": "code",
   "execution_count": 5,
   "id": "cf4f2a1b",
   "metadata": {},
   "outputs": [
    {
     "data": {
      "text/plain": [
       "(10000,)"
      ]
     },
     "execution_count": 5,
     "metadata": {},
     "output_type": "execute_result"
    }
   ],
   "source": [
    "y_test.shape"
   ]
  },
  {
   "cell_type": "code",
   "execution_count": 6,
   "id": "5323acb2",
   "metadata": {},
   "outputs": [
    {
     "data": {
      "text/plain": [
       "(60000, 28, 28)"
      ]
     },
     "execution_count": 6,
     "metadata": {},
     "output_type": "execute_result"
    }
   ],
   "source": [
    "x_train.shape"
   ]
  },
  {
   "cell_type": "code",
   "execution_count": 7,
   "id": "8bb515cd",
   "metadata": {},
   "outputs": [
    {
     "data": {
      "image/png": "[encoded data removed]",
      "text/plain": [
       "<Figure size 720x288 with 10 Axes>"
      ]
     },
     "metadata": {
      "needs_background": "light"
     },
     "output_type": "display_data"
    }
   ],
   "source": [
    "fig,axes = plt.subplots(ncols=10,sharex=False,\n",
    "                       sharey=True,figsize =(10,4))\n",
    "for i in range(10):\n",
    "    axes[i].set_title(y_train[i])\n",
    "    axes[i].imshow(x_train[i],cmap='gray')\n",
    "    axes[i].get_xaxis().set_visible(False)\n",
    "    axes[i].get_yaxis().set_visible(False)\n",
    "plt.show()    "
   ]
  },
  {
   "cell_type": "code",
   "execution_count": 8,
   "id": "fc7a9a9a",
   "metadata": {},
   "outputs": [],
   "source": [
    "## converting x_train and y_train into categorical data\n",
    "y_train = to_categorical(y_train)\n",
    "y_test = to_categorical(y_test)"
   ]
  },
  {
   "cell_type": "code",
   "execution_count": 9,
   "id": "7a4f1ecf",
   "metadata": {},
   "outputs": [
    {
     "data": {
      "text/plain": [
       "(10000, 10)"
      ]
     },
     "execution_count": 9,
     "metadata": {},
     "output_type": "execute_result"
    }
   ],
   "source": [
    "y_test.shape"
   ]
  },
  {
   "cell_type": "code",
   "execution_count": 10,
   "id": "ac412564",
   "metadata": {},
   "outputs": [],
   "source": [
    "import pandas as pd"
   ]
  },
  {
   "cell_type": "code",
   "execution_count": 11,
   "id": "08d07e90",
   "metadata": {},
   "outputs": [],
   "source": [
    "pd.options.display.max_columns = None"
   ]
  },
  {
   "cell_type": "code",
   "execution_count": 12,
   "id": "960fab3c",
   "metadata": {},
   "outputs": [
    {
     "data": {
      "text/plain": [
       "array([[0., 0., 0., ..., 1., 0., 0.],\n",
       "       [0., 0., 1., ..., 0., 0., 0.],\n",
       "       [0., 1., 0., ..., 0., 0., 0.],\n",
       "       ...,\n",
       "       [0., 0., 0., ..., 0., 0., 0.],\n",
       "       [0., 0., 0., ..., 0., 0., 0.],\n",
       "       [0., 0., 0., ..., 0., 0., 0.]], dtype=float32)"
      ]
     },
     "execution_count": 12,
     "metadata": {},
     "output_type": "execute_result"
    }
   ],
   "source": [
    "y_test"
   ]
  },
  {
   "cell_type": "code",
   "execution_count": 13,
   "id": "009490b3",
   "metadata": {},
   "outputs": [
    {
     "name": "stderr",
     "output_type": "stream",
     "text": [
      "2021-10-15 21:06:51.669856: I tensorflow/core/platform/cpu_feature_guard.cc:142] This TensorFlow binary is optimized with oneAPI Deep Neural Network Library (oneDNN) to use the following CPU instructions in performance-critical operations:  AVX2 FMA\n",
      "To enable them in other operations, rebuild TensorFlow with the appropriate compiler flags.\n"
     ]
    }
   ],
   "source": [
    "model = Sequential()\n",
    "model.add(Flatten(input_shape=(28,28)))\n",
    "model.add(Dense(10,activation ='sigmoid'))\n",
    "model.add(Dense(8,activation ='sigmoid'))\n",
    "model.add(Dense(10,activation ='softmax'))"
   ]
  },
  {
   "cell_type": "code",
   "execution_count": 14,
   "id": "ef2fcc67",
   "metadata": {},
   "outputs": [
    {
     "name": "stdout",
     "output_type": "stream",
     "text": [
      "Model: \"sequential\"\n",
      "_________________________________________________________________\n",
      "Layer (type)                 Output Shape              Param #   \n",
      "=================================================================\n",
      "flatten (Flatten)            (None, 784)               0         \n",
      "_________________________________________________________________\n",
      "dense (Dense)                (None, 10)                7850      \n",
      "_________________________________________________________________\n",
      "dense_1 (Dense)              (None, 8)                 88        \n",
      "_________________________________________________________________\n",
      "dense_2 (Dense)              (None, 10)                90        \n",
      "=================================================================\n",
      "Total params: 8,028\n",
      "Trainable params: 8,028\n",
      "Non-trainable params: 0\n",
      "_________________________________________________________________\n"
     ]
    }
   ],
   "source": [
    "model.summary()"
   ]
  },
  {
   "cell_type": "code",
   "execution_count": 15,
   "id": "f11311ba",
   "metadata": {},
   "outputs": [],
   "source": [
    "#!pip install pydot"
   ]
  },
  {
   "cell_type": "code",
   "execution_count": 16,
   "id": "bbaf86ea",
   "metadata": {},
   "outputs": [],
   "source": [
    "model.compile(loss='categorical_crossentropy',\n",
    "             optimizer ='adam',\n",
    "             metrics='acc')"
   ]
  },
  {
   "cell_type": "code",
   "execution_count": 17,
   "id": "14796943",
   "metadata": {},
   "outputs": [
    {
     "name": "stderr",
     "output_type": "stream",
     "text": [
      "2021-10-15 21:06:51.772053: I tensorflow/compiler/mlir/mlir_graph_optimization_pass.cc:185] None of the MLIR Optimization Passes are enabled (registered 2)\n"
     ]
    },
    {
     "name": "stdout",
     "output_type": "stream",
     "text": [
      "Epoch 1/20\n",
      "1875/1875 [==============================] - 2s 907us/step - loss: 1.6659 - acc: 0.5366 - val_loss: 1.1178 - val_acc: 0.7340\n",
      "Epoch 2/20\n",
      "1875/1875 [==============================] - 2s 851us/step - loss: 0.9678 - acc: 0.7168 - val_loss: 0.8349 - val_acc: 0.7205\n",
      "Epoch 3/20\n",
      "1875/1875 [==============================] - 2s 883us/step - loss: 0.8027 - acc: 0.7482 - val_loss: 0.7790 - val_acc: 0.7251\n",
      "Epoch 4/20\n",
      "1875/1875 [==============================] - 2s 870us/step - loss: 0.7115 - acc: 0.7885 - val_loss: 0.6621 - val_acc: 0.8076\n",
      "Epoch 5/20\n",
      "1875/1875 [==============================] - 2s 856us/step - loss: 0.6600 - acc: 0.8019 - val_loss: 0.6375 - val_acc: 0.7821\n",
      "Epoch 6/20\n",
      "1875/1875 [==============================] - 2s 851us/step - loss: 0.6361 - acc: 0.7997 - val_loss: 0.6427 - val_acc: 0.8072\n",
      "Epoch 7/20\n",
      "1875/1875 [==============================] - 2s 840us/step - loss: 0.5782 - acc: 0.8294 - val_loss: 0.5553 - val_acc: 0.8461\n",
      "Epoch 8/20\n",
      "1875/1875 [==============================] - 2s 851us/step - loss: 0.5669 - acc: 0.8349 - val_loss: 0.5898 - val_acc: 0.8250\n",
      "Epoch 9/20\n",
      "1875/1875 [==============================] - 2s 912us/step - loss: 0.5545 - acc: 0.8382 - val_loss: 0.5559 - val_acc: 0.8380\n",
      "Epoch 10/20\n",
      "1875/1875 [==============================] - 2s 940us/step - loss: 0.5277 - acc: 0.8454 - val_loss: 0.5085 - val_acc: 0.8483\n",
      "Epoch 11/20\n",
      "1875/1875 [==============================] - 2s 950us/step - loss: 0.5149 - acc: 0.8483 - val_loss: 0.4681 - val_acc: 0.8668\n",
      "Epoch 12/20\n",
      "1875/1875 [==============================] - 2s 999us/step - loss: 0.4997 - acc: 0.8553 - val_loss: 0.4525 - val_acc: 0.8711\n",
      "Epoch 13/20\n",
      "1875/1875 [==============================] - 2s 988us/step - loss: 0.5117 - acc: 0.8519 - val_loss: 0.5040 - val_acc: 0.8487\n",
      "Epoch 14/20\n",
      "1875/1875 [==============================] - 2s 903us/step - loss: 0.5032 - acc: 0.8548 - val_loss: 0.5100 - val_acc: 0.8471\n",
      "Epoch 15/20\n",
      "1875/1875 [==============================] - 2s 847us/step - loss: 0.5006 - acc: 0.8559 - val_loss: 0.4730 - val_acc: 0.8662\n",
      "Epoch 16/20\n",
      "1875/1875 [==============================] - 2s 961us/step - loss: 0.4844 - acc: 0.8627 - val_loss: 0.4645 - val_acc: 0.8660\n",
      "Epoch 17/20\n",
      "1875/1875 [==============================] - 2s 955us/step - loss: 0.4604 - acc: 0.8694 - val_loss: 0.4675 - val_acc: 0.8683\n",
      "Epoch 18/20\n",
      "1875/1875 [==============================] - 2s 1ms/step - loss: 0.4886 - acc: 0.8626 - val_loss: 0.4710 - val_acc: 0.8720\n",
      "Epoch 19/20\n",
      "1875/1875 [==============================] - 2s 973us/step - loss: 0.4755 - acc: 0.8621 - val_loss: 0.4574 - val_acc: 0.8672\n",
      "Epoch 20/20\n",
      "1875/1875 [==============================] - 2s 969us/step - loss: 0.4772 - acc: 0.8621 - val_loss: 0.4516 - val_acc: 0.8707\n"
     ]
    },
    {
     "data": {
      "text/plain": [
       "<keras.callbacks.History at 0x7feac7edfeb0>"
      ]
     },
     "execution_count": 17,
     "metadata": {},
     "output_type": "execute_result"
    }
   ],
   "source": [
    "model.fit(x_train,y_train, epochs=20,\n",
    "         validation_data=(x_test, y_test))"
   ]
  },
  {
   "cell_type": "code",
   "execution_count": 18,
   "id": "c723ac44",
   "metadata": {},
   "outputs": [],
   "source": [
    "## saving the model\n",
    "model.save('mnist_model.h5')"
   ]
  },
  {
   "cell_type": "code",
   "execution_count": 19,
   "id": "3b13ae97",
   "metadata": {},
   "outputs": [
    {
     "name": "stdout",
     "output_type": "stream",
     "text": [
      "\u001b[34mdataset_dogs_vs_cats\u001b[m\u001b[m/    mnist_model.h5           \u001b[34mtrain\u001b[m\u001b[m/\n",
      "dogs-vs-cats.zip         sampleSubmission.csv     train.zip\n",
      "keras_Hello_World.ipynb  \u001b[34mtest1\u001b[m\u001b[m/\n",
      "mnist_cnn_model1.h5      test1.zip\n"
     ]
    }
   ],
   "source": [
    "ls"
   ]
  },
  {
   "cell_type": "markdown",
   "id": "6f5b8916",
   "metadata": {},
   "source": [
    "# Handwritten number recognition using Keras part 2 and Google Colab"
   ]
  },
  {
   "cell_type": "code",
   "execution_count": null,
   "id": "61446b56",
   "metadata": {},
   "outputs": [],
   "source": []
  },
  {
   "cell_type": "code",
   "execution_count": null,
   "id": "c7aa03c7",
   "metadata": {},
   "outputs": [],
   "source": []
  },
  {
   "cell_type": "markdown",
   "id": "20f6c4d6",
   "metadata": {},
   "source": [
    "## MNIST using CNN"
   ]
  },
  {
   "cell_type": "code",
   "execution_count": 20,
   "id": "636ed15f",
   "metadata": {},
   "outputs": [],
   "source": [
    "import matplotlib.pyplot as plt\n",
    "import cv2\n",
    "from keras.layers import Dense, Flatten,Dropout,Activation\n",
    "from keras.layers import Conv2D,MaxPooling2D\n",
    "from keras.models import Sequential\n",
    "from tensorflow.keras.utils import to_categorical\n",
    "from keras.datasets import mnist\n",
    "from keras import utils\n",
    "from keras.utils import np_utils\n",
    "from keras.datasets import mnist"
   ]
  },
  {
   "cell_type": "code",
   "execution_count": 21,
   "id": "69373021",
   "metadata": {},
   "outputs": [],
   "source": [
    "(x_train, y_train), (x_test, y_test) = mnist.load_data()"
   ]
  },
  {
   "cell_type": "code",
   "execution_count": 22,
   "id": "6d6da0ed",
   "metadata": {},
   "outputs": [
    {
     "data": {
      "text/plain": [
       "4"
      ]
     },
     "execution_count": 22,
     "metadata": {},
     "output_type": "execute_result"
    }
   ],
   "source": [
    "y_train[2]"
   ]
  },
  {
   "cell_type": "code",
   "execution_count": 23,
   "id": "d005c47b",
   "metadata": {},
   "outputs": [
    {
     "data": {
      "image/png": "[encoded data removed]",
      "text/plain": [
       "<Figure size 1440x288 with 10 Axes>"
      ]
     },
     "metadata": {
      "needs_background": "light"
     },
     "output_type": "display_data"
    }
   ],
   "source": [
    "fig,axes = plt.subplots(ncols=10,sharex=False,\n",
    "                       sharey=True, figsize=(20,4))\n",
    "for x in range(10):\n",
    "    axes[x].set_title(y_train[x])\n",
    "    axes[x].imshow(x_train[x], cmap='gray')\n",
    "    axes[x].get_xaxis().set_visible(False)\n",
    "    axes[x].get_yaxis().set_visible(False)\n",
    "plt.show()        "
   ]
  },
  {
   "cell_type": "code",
   "execution_count": 24,
   "id": "cadf1625-22a9-4d13-a59c-1911531448ac",
   "metadata": {},
   "outputs": [
    {
     "data": {
      "text/plain": [
       "(60000, 28, 28)"
      ]
     },
     "execution_count": 24,
     "metadata": {},
     "output_type": "execute_result"
    }
   ],
   "source": [
    "x_train.shape"
   ]
  },
  {
   "cell_type": "code",
   "execution_count": 25,
   "id": "5e001051-59cd-46ad-96a1-553fca34ad63",
   "metadata": {},
   "outputs": [],
   "source": [
    "x_train = x_train.reshape(x_train.shape[0],28,28,1)\n",
    "x_test = x_test.reshape(x_test.shape[0],28,28,1)"
   ]
  },
  {
   "cell_type": "code",
   "execution_count": 26,
   "id": "900a5631-a077-4714-b17e-3ce9c69eb90f",
   "metadata": {},
   "outputs": [
    {
     "data": {
      "text/plain": [
       "(60000, 28, 28, 1)"
      ]
     },
     "execution_count": 26,
     "metadata": {},
     "output_type": "execute_result"
    }
   ],
   "source": [
    "x_train.shape"
   ]
  },
  {
   "cell_type": "code",
   "execution_count": 27,
   "id": "a0ec1d2e-3f94-425f-9bdb-ea1a08cfe25d",
   "metadata": {},
   "outputs": [
    {
     "data": {
      "text/plain": [
       "array([[0],\n",
       "       [0],\n",
       "       [0],\n",
       "       [0],\n",
       "       [0],\n",
       "       [0],\n",
       "       [0],\n",
       "       [0],\n",
       "       [0],\n",
       "       [0],\n",
       "       [0],\n",
       "       [0],\n",
       "       [0],\n",
       "       [0],\n",
       "       [0],\n",
       "       [0],\n",
       "       [0],\n",
       "       [0],\n",
       "       [0],\n",
       "       [0],\n",
       "       [0],\n",
       "       [0],\n",
       "       [0],\n",
       "       [0],\n",
       "       [0],\n",
       "       [0],\n",
       "       [0],\n",
       "       [0]], dtype=uint8)"
      ]
     },
     "execution_count": 27,
     "metadata": {},
     "output_type": "execute_result"
    }
   ],
   "source": [
    "x_train[0][0]"
   ]
  },
  {
   "cell_type": "code",
   "execution_count": 28,
   "id": "93ecf0cb-4639-43cb-be13-44f264368a1b",
   "metadata": {},
   "outputs": [],
   "source": [
    "x_train = x_train.astype('float32')\n",
    "x_test = x_test.astype('float32')\n"
   ]
  },
  {
   "cell_type": "code",
   "execution_count": 29,
   "id": "b45d72f1-068c-4bd9-bc00-9bf0b49e937d",
   "metadata": {},
   "outputs": [],
   "source": [
    "x_train /= 255\n",
    "x_test /= 255\n",
    "\n",
    "y_train = np_utils.to_categorical(y_train,10)\n",
    "y_test = np_utils.to_categorical(y_test,10)"
   ]
  },
  {
   "cell_type": "code",
   "execution_count": 30,
   "id": "f8fd4f4e-ea1f-4cde-9857-2182eabd1ea2",
   "metadata": {},
   "outputs": [
    {
     "data": {
      "text/plain": [
       "array([0., 0., 0., 0., 0., 1., 0., 0., 0., 0.], dtype=float32)"
      ]
     },
     "execution_count": 30,
     "metadata": {},
     "output_type": "execute_result"
    }
   ],
   "source": [
    "y_train[0]"
   ]
  },
  {
   "cell_type": "code",
   "execution_count": 31,
   "id": "e88aae9e-bf87-4ae0-9d91-1153b2e5a20a",
   "metadata": {},
   "outputs": [],
   "source": [
    "model = Sequential()\n",
    "model.add(Conv2D(32, (3, 3), activation = 'relu',\n",
    "                 kernel_initializer='he_uniform', input_shape =(28,28,1)))\n",
    "model.add(MaxPooling2D((2, 2)))\n",
    "model.add(Flatten())\n",
    "model.add(Dense(100, activation= 'relu',kernel_initializer='he_uniform'))\n",
    "model.add(Dense(10, activation = 'softmax'))"
   ]
  },
  {
   "cell_type": "code",
   "execution_count": 32,
   "id": "1e47fdfd-3c5c-4812-9ac7-9198a841caf6",
   "metadata": {},
   "outputs": [
    {
     "name": "stdout",
     "output_type": "stream",
     "text": [
      "Model: \"sequential_1\"\n",
      "_________________________________________________________________\n",
      "Layer (type)                 Output Shape              Param #   \n",
      "=================================================================\n",
      "conv2d (Conv2D)              (None, 26, 26, 32)        320       \n",
      "_________________________________________________________________\n",
      "max_pooling2d (MaxPooling2D) (None, 13, 13, 32)        0         \n",
      "_________________________________________________________________\n",
      "flatten_1 (Flatten)          (None, 5408)              0         \n",
      "_________________________________________________________________\n",
      "dense_3 (Dense)              (None, 100)               540900    \n",
      "_________________________________________________________________\n",
      "dense_4 (Dense)              (None, 10)                1010      \n",
      "=================================================================\n",
      "Total params: 542,230\n",
      "Trainable params: 542,230\n",
      "Non-trainable params: 0\n",
      "_________________________________________________________________\n"
     ]
    }
   ],
   "source": [
    "model.summary()"
   ]
  },
  {
   "cell_type": "code",
   "execution_count": 33,
   "id": "c90823b7-6e83-4e36-93bf-119bc22661bd",
   "metadata": {},
   "outputs": [
    {
     "name": "stdout",
     "output_type": "stream",
     "text": [
      "Epoch 1/2\n",
      "1875/1875 [==============================] - 12s 6ms/step - loss: 0.1370 - accuracy: 0.9582 - val_loss: 0.0711 - val_accuracy: 0.9769\n",
      "Epoch 2/2\n",
      "1875/1875 [==============================] - 12s 6ms/step - loss: 0.0475 - accuracy: 0.9852 - val_loss: 0.0502 - val_accuracy: 0.9825\n"
     ]
    },
    {
     "data": {
      "text/plain": [
       "<keras.callbacks.History at 0x7feac003e730>"
      ]
     },
     "execution_count": 33,
     "metadata": {},
     "output_type": "execute_result"
    }
   ],
   "source": [
    "## Let's compile the model\n",
    "model.compile(loss='categorical_crossentropy', optimizer = 'adam', metrics = ['accuracy'])\n",
    "model.fit(x_train, y_train, batch_size=32,epochs=2,verbose=1,\n",
    "          validation_data=(x_test, y_test))"
   ]
  },
  {
   "cell_type": "markdown",
   "id": "93e33dec-eddd-4a2d-97a1-5bbfa439dc28",
   "metadata": {},
   "source": [
    "## Savig the model"
   ]
  },
  {
   "cell_type": "code",
   "execution_count": 34,
   "id": "c3c0d522-deb6-41bc-b64d-992bd364d924",
   "metadata": {},
   "outputs": [],
   "source": [
    "model.save('mnist_cnn_model1.h5')"
   ]
  },
  {
   "cell_type": "code",
   "execution_count": 35,
   "id": "0e20ae93-ce9d-45df-a735-a9c1c17ef7f9",
   "metadata": {},
   "outputs": [
    {
     "data": {
      "text/plain": [
       "<matplotlib.legend.Legend at 0x7feac07fc4c0>"
      ]
     },
     "execution_count": 35,
     "metadata": {},
     "output_type": "execute_result"
    },
    {
     "data": {
      "image/png": "[encoded data removed]",
      "text/plain": [
       "<Figure size 432x288 with 1 Axes>"
      ]
     },
     "metadata": {
      "needs_background": "light"
     },
     "output_type": "display_data"
    }
   ],
   "source": [
    "## plotting the the losses\n",
    "plt.plot(model.history.history['loss'], label='Train Loss')\n",
    "plt.plot(model.history.history['val_loss'], label='Validation Loss')\n",
    "plt.legend()\n"
   ]
  },
  {
   "cell_type": "code",
   "execution_count": 36,
   "id": "463ef85f-8da9-4b3f-a282-f33c06f9f0c6",
   "metadata": {},
   "outputs": [
    {
     "name": "stdout",
     "output_type": "stream",
     "text": [
      "\u001b[34mdataset_dogs_vs_cats\u001b[m\u001b[m/    mnist_model.h5           \u001b[34mtrain\u001b[m\u001b[m/\n",
      "dogs-vs-cats.zip         sampleSubmission.csv     train.zip\n",
      "keras_Hello_World.ipynb  \u001b[34mtest1\u001b[m\u001b[m/\n",
      "mnist_cnn_model1.h5      test1.zip\n"
     ]
    }
   ],
   "source": [
    "ls"
   ]
  },
  {
   "cell_type": "code",
   "execution_count": 37,
   "id": "5d7bc543-a1d4-4c66-9a25-15bcf87f6daa",
   "metadata": {},
   "outputs": [
    {
     "data": {
      "application/javascript": [
       "\n",
       "        if (window._pyforest_update_imports_cell) { window._pyforest_update_imports_cell('import keras'); }\n",
       "    "
      ],
      "text/plain": [
       "<IPython.core.display.Javascript object>"
      ]
     },
     "metadata": {},
     "output_type": "display_data"
    }
   ],
   "source": [
    "## Let's load the same model\n",
    "model_s = keras.models.load_model(\"mnist_cnn_model1.h5\")"
   ]
  },
  {
   "cell_type": "code",
   "execution_count": 38,
   "id": "bfedd35b-cc87-45c4-b751-403986084933",
   "metadata": {},
   "outputs": [
    {
     "data": {
      "text/plain": [
       "<matplotlib.image.AxesImage at 0x7feac079b6a0>"
      ]
     },
     "execution_count": 38,
     "metadata": {},
     "output_type": "execute_result"
    },
    {
     "data": {
      "image/png": "[encoded data removed]",
      "text/plain": [
       "<Figure size 432x288 with 1 Axes>"
      ]
     },
     "metadata": {
      "needs_background": "light"
     },
     "output_type": "display_data"
    }
   ],
   "source": [
    "plt.imshow(x_test[2],cmap='gray')"
   ]
  },
  {
   "cell_type": "code",
   "execution_count": 39,
   "id": "6a6e4261-0050-4d3c-a981-f2060770bb42",
   "metadata": {},
   "outputs": [
    {
     "data": {
      "application/javascript": [
       "\n",
       "        if (window._pyforest_update_imports_cell) { window._pyforest_update_imports_cell('import numpy as np\\nimport keras'); }\n",
       "    "
      ],
      "text/plain": [
       "<IPython.core.display.Javascript object>"
      ]
     },
     "metadata": {},
     "output_type": "display_data"
    },
    {
     "data": {
      "application/javascript": [
       "\n",
       "        if (window._pyforest_update_imports_cell) { window._pyforest_update_imports_cell('import numpy as np\\nimport keras'); }\n",
       "    "
      ],
      "text/plain": [
       "<IPython.core.display.Javascript object>"
      ]
     },
     "metadata": {},
     "output_type": "display_data"
    },
    {
     "data": {
      "text/plain": [
       "1"
      ]
     },
     "execution_count": 39,
     "metadata": {},
     "output_type": "execute_result"
    }
   ],
   "source": [
    "x = np.reshape(x_test[2],(1,28,28,1))\n",
    "np.argmax(model_s.predict(x))               "
   ]
  },
  {
   "cell_type": "code",
   "execution_count": 40,
   "id": "49008ec0-bf32-4763-b230-30169f81e062",
   "metadata": {},
   "outputs": [
    {
     "name": "stdout",
     "output_type": "stream",
     "text": [
      "************************************************************\n"
     ]
    }
   ],
   "source": [
    "print('**'*30)"
   ]
  },
  {
   "cell_type": "markdown",
   "id": "239136e0-0361-4535-a24c-94815a6b2692",
   "metadata": {},
   "source": [
    "## Transfer Learning Project Cats vs Dogs Classification"
   ]
  },
  {
   "cell_type": "code",
   "execution_count": 41,
   "id": "3df6df21-1f7c-4f8b-98c6-9a3cf55932ae",
   "metadata": {},
   "outputs": [],
   "source": [
    "## https://www.kaggle.com/c/dogs-vs-cats/data"
   ]
  },
  {
   "cell_type": "code",
   "execution_count": 42,
   "id": "0288d0c9-ecdf-47e0-9355-bceddb223383",
   "metadata": {},
   "outputs": [],
   "source": [
    "from zipfile import ZipFile"
   ]
  },
  {
   "cell_type": "code",
   "execution_count": null,
   "id": "5f779a72-8867-4093-9d2a-2d9e46727d74",
   "metadata": {},
   "outputs": [],
   "source": []
  },
  {
   "cell_type": "code",
   "execution_count": 43,
   "id": "d7ae4bef-90d9-49f6-b9ce-a5ea961b8ba6",
   "metadata": {},
   "outputs": [],
   "source": [
    "with ZipFile('dogs-vs-cats.zip','r') as zipObj:\n",
    "    # extract all the content of zip file in current directory\n",
    "    zipObj.extractall()"
   ]
  },
  {
   "cell_type": "code",
   "execution_count": 44,
   "id": "6f4523e5-5e07-4f66-9b36-e0856ab3833c",
   "metadata": {},
   "outputs": [
    {
     "name": "stdout",
     "output_type": "stream",
     "text": [
      "\u001b[34mdataset_dogs_vs_cats\u001b[m\u001b[m/    mnist_model.h5           \u001b[34mtrain\u001b[m\u001b[m/\n",
      "dogs-vs-cats.zip         sampleSubmission.csv     train.zip\n",
      "keras_Hello_World.ipynb  \u001b[34mtest1\u001b[m\u001b[m/\n",
      "mnist_cnn_model1.h5      test1.zip\n"
     ]
    }
   ],
   "source": [
    "ls"
   ]
  },
  {
   "cell_type": "code",
   "execution_count": 45,
   "id": "9ac148ab-fbb6-4ec7-8694-3c419c7b363b",
   "metadata": {},
   "outputs": [],
   "source": [
    "## extract train.zip files\n",
    "\n",
    "with ZipFile('train.zip','r') as zipObj:\n",
    "    # extract all the content of zip file in current directory\n",
    "    zipObj.extractall()"
   ]
  },
  {
   "cell_type": "code",
   "execution_count": 46,
   "id": "396d5c08-7558-44c4-9bcf-f091a6fbe3c6",
   "metadata": {},
   "outputs": [],
   "source": [
    "## extract test1.zip files\n",
    "\n",
    "with ZipFile('test1.zip','r') as zipObj:\n",
    "    # extract all the content of zip file in current directory\n",
    "    zipObj.extractall()"
   ]
  },
  {
   "cell_type": "markdown",
   "id": "3c09602f-9061-4322-be05-17c9e806f746",
   "metadata": {},
   "source": [
    "### let's seperate cats and dogs in this format\n"
   ]
  },
  {
   "cell_type": "markdown",
   "id": "9b5743bb-7f37-41fa-8f7a-37a110bd694e",
   "metadata": {},
   "source": [
    "-dataset_dogs_vs_cats\n",
    "    -train\n",
    "         --dogs\n",
    "         --cats\n",
    "    -test\n",
    "         --dogs\n",
    "         -- cats"
   ]
  },
  {
   "cell_type": "code",
   "execution_count": 47,
   "id": "6cb73ef4-2f17-4836-b771-d2f5396840e1",
   "metadata": {},
   "outputs": [],
   "source": [
    "from os import makedirs\n",
    "from os import listdir\n",
    "from shutil import copyfile\n",
    "from random import seed, random\n"
   ]
  },
  {
   "cell_type": "code",
   "execution_count": 48,
   "id": "f22bca4e-7be4-4f25-a6fe-91c8e76d2587",
   "metadata": {},
   "outputs": [],
   "source": [
    "## create directory\n",
    "\n",
    "dataset_home = 'dataset_dogs_vs_cats/'\n",
    "subdirs=['train/','test/']\n",
    "for subdir in subdirs:\n",
    "    # create label subdirectories\n",
    "    labeldirs = ['dogs/', 'cats/']\n",
    "    for labeldir in labeldirs:\n",
    "        newdir = dataset_home + subdir + labeldir\n",
    "        makedirs(newdir, exist_ok= True)"
   ]
  },
  {
   "cell_type": "code",
   "execution_count": 49,
   "id": "db5fbd61-e479-496e-90f8-15121cebfe87",
   "metadata": {},
   "outputs": [],
   "source": [
    "## create directories\n",
    "seed(1)\n",
    "val_ratio = 0.25\n",
    "# copy training dataset image into subdirectories\n",
    "src_directory = 'train'\n",
    "dataset_home ='dataset_dogs_vs_cats/'\n",
    "for file in listdir(src_directory):\n",
    "    src = src_directory + '/' + file\n",
    "    dst_dir = 'train/'\n",
    "    if random() < val_ratio:\n",
    "        dst_dir = 'test/'\n",
    "    if file.startswith('cat'):\n",
    "        dst = dataset_home + dst_dir + 'cats/' + file\n",
    "        copyfile(src, dst)\n",
    "    elif file.startswith('dog'):\n",
    "        dst = dataset_home + dst_dir + 'dogs/' + file\n",
    "        copyfile(src, dst)     "
   ]
  },
  {
   "cell_type": "markdown",
   "id": "c54b9ae1-50f6-4b9a-97a4-06fda93f1be1",
   "metadata": {},
   "source": [
    "### Prepare the model for transfer learning"
   ]
  },
  {
   "cell_type": "code",
   "execution_count": 50,
   "id": "21859ba7-49e6-410e-8112-c9d79e71da2d",
   "metadata": {},
   "outputs": [],
   "source": [
    "from keras.applications.vgg16 import VGG16\n",
    "from keras.models import Model\n",
    "from keras.layers import Dense\n",
    "from keras.layers import Flatten\n",
    "#from keras.optimizers import SGD\n",
    "from tensorflow.keras.optimizers import SGD\n",
    "from keras.preprocessing.image import ImageDataGenerator\n",
    "model = VGG16(include_top=False, input_shape=(224, 224, 3))\n",
    "# make loaded layers as no trainable\n",
    "for layer in model.layers:\n",
    "    layer.trainable = False\n",
    "    \n",
    "## add new classifier layers\n",
    "\n",
    "flat1 = Flatten()(model.layers[-1].output)\n",
    "class1 = Dense(128, activation='relu', kernel_initializer='he_uniform')(flat1)\n",
    "output = Dense(1, activation='sigmoid')(class1)\n",
    "\n",
    "# define new model\n",
    "model = Model(inputs = model.inputs, outputs = output)\n",
    "\n",
    "# complile the model\n",
    "opt = SGD(learning_rate=0.001, momentum=0.9)\n",
    "model.compile(optimizer=opt, loss='binary_crossentropy',metrics=['accuracy'])\n",
    "             "
   ]
  },
  {
   "cell_type": "code",
   "execution_count": null,
   "id": "87445d9d-b028-4d7f-b0d2-4f450d15d192",
   "metadata": {},
   "outputs": [],
   "source": []
  },
  {
   "cell_type": "code",
   "execution_count": 51,
   "id": "f3430c97-a721-4189-ac38-d0b6d7815083",
   "metadata": {},
   "outputs": [
    {
     "name": "stdout",
     "output_type": "stream",
     "text": [
      "Found 18697 images belonging to 2 classes.\n",
      "Found 6303 images belonging to 2 classes.\n"
     ]
    },
    {
     "name": "stderr",
     "output_type": "stream",
     "text": [
      "/opt/anaconda3/lib/python3.8/site-packages/keras/engine/training.py:1972: UserWarning: `Model.fit_generator` is deprecated and will be removed in a future version. Please use `Model.fit`, which supports generators.\n",
      "  warnings.warn('`Model.fit_generator` is deprecated and '\n"
     ]
    },
    {
     "name": "stdout",
     "output_type": "stream",
     "text": [
      "Epoch 1/5\n",
      "293/293 [==============================] - 4675s 16s/step - loss: 0.2074 - accuracy: 0.9657 - val_loss: 0.0718 - val_accuracy: 0.9703\n",
      "Epoch 2/5\n",
      "293/293 [==============================] - 4406s 15s/step - loss: 0.0240 - accuracy: 0.9928 - val_loss: 0.0826 - val_accuracy: 0.9719\n",
      "Epoch 3/5\n",
      "293/293 [==============================] - 4639s 16s/step - loss: 0.0060 - accuracy: 0.9987 - val_loss: 0.0813 - val_accuracy: 0.9757\n",
      "Epoch 4/5\n",
      "293/293 [==============================] - 6171s 21s/step - loss: 0.0018 - accuracy: 0.9998 - val_loss: 0.0944 - val_accuracy: 0.9773\n",
      "Epoch 5/5\n",
      "293/293 [==============================] - 5246s 18s/step - loss: 9.4562e-04 - accuracy: 0.9998 - val_loss: 0.0989 - val_accuracy: 0.9767\n"
     ]
    }
   ],
   "source": [
    "datagen = ImageDataGenerator(featurewise_center=True)\n",
    "# specify imagenet mean values for centering\n",
    "\n",
    "datagen.mean = [123.68, 116.779, 103.939]\n",
    "# prepare iterator\n",
    "train_it = datagen.flow_from_directory('dataset_dogs_vs_cats/train/',\n",
    "                                      class_mode= 'binary',batch_size=64, target_size =(224, 224))\n",
    "\n",
    "test_it = datagen.flow_from_directory('dataset_dogs_vs_cats/test/',\n",
    "                                      class_mode= 'binary',batch_size=64, target_size =(224, 224))\n",
    "# fit model\n",
    "history = model.fit_generator(train_it, steps_per_epoch=len(train_it),\n",
    "                             validation_data= test_it, validation_steps=len(test_it), epochs = 5, verbose =1)\n"
   ]
  },
  {
   "cell_type": "code",
   "execution_count": 55,
   "id": "2378c170-4163-4e29-a86b-2555b82ea8b2",
   "metadata": {},
   "outputs": [
    {
     "data": {
      "image/png": "[encoded data removed]",
      "text/plain": [
       "<Figure size 432x288 with 2 Axes>"
      ]
     },
     "metadata": {},
     "output_type": "display_data"
    }
   ],
   "source": [
    "import matplotlib.pyplot as plt\n",
    "import sys\n",
    "plt.subplot(211)\n",
    "plt.title('Cross Entropy Loss')\n",
    "plt.plot(history.history['loss'],color='blue',label ='train') \n",
    "plt.plot(history.history['val_loss'],color='orange',label ='test') \n",
    "# plot the accuracy\n",
    "plt.subplot(212)\n",
    "plt.title('Classification Accuracy') \n",
    "plt.plot(history.history['accuracy'],color='blue',label ='train') \n",
    "plt.plot(history.history['val_accuracy'],color='orange',label ='test')           \n",
    "# save plot to file\n",
    "plt.style.use('dark_background')\n",
    "filename = sys.argv[0].split('/')[1]\n",
    "plt.savefig(filename + '_plot.png')          \n",
    "          "
   ]
  },
  {
   "cell_type": "markdown",
   "id": "ec3c53a0-8c87-4e2d-aab2-1759344cd240",
   "metadata": {},
   "source": [
    "## savaing the model."
   ]
  },
  {
   "cell_type": "code",
   "execution_count": 56,
   "id": "66950552-a517-42ee-bf1b-23fa5c82d2d9",
   "metadata": {},
   "outputs": [],
   "source": [
    "model.save('final_model.h5')"
   ]
  },
  {
   "cell_type": "code",
   "execution_count": 57,
   "id": "a2b7aed4-09bd-4e45-a38c-755f291e890e",
   "metadata": {},
   "outputs": [
    {
     "name": "stdout",
     "output_type": "stream",
     "text": [
      "\u001b[34mdataset_dogs_vs_cats\u001b[m\u001b[m/    mnist_cnn_model1.h5      \u001b[34mtest1\u001b[m\u001b[m/\n",
      "dogs-vs-cats.zip         mnist_model.h5           test1.zip\n",
      "final_model.h5           opt_plot.png             \u001b[34mtrain\u001b[m\u001b[m/\n",
      "keras_Hello_World.ipynb  sampleSubmission.csv     train.zip\n"
     ]
    }
   ],
   "source": [
    "ls"
   ]
  },
  {
   "cell_type": "code",
   "execution_count": 93,
   "id": "6c921813-ff25-4dc5-b8c6-eec985670460",
   "metadata": {},
   "outputs": [],
   "source": [
    "from keras.preprocessing.image import load_img\n",
    "from keras.preprocessing.image import img_to_array\n",
    "from keras.models import load_model\n",
    "model = load_model('final_model.h5')\n",
    "## load and prepare the image\n",
    "# load the image\n",
    "img = load_img('/Users/oliverla412/Desktop/DataTrainded2/Deep_Learning/Keras/dataset_dogs_vs_cats/test/dogs/dog.0.jpg',\n",
    "              target_size=(224, 224))\n",
    "## convert to arry\n",
    "img = img_to_array(img)\n",
    "\n",
    "# reshape into a single sample with 3 channels\n",
    "img = img.reshape(1,224, 224,3)\n",
    "# center pixel data\n",
    "img = img.astype('float32')\n",
    "img = img- [123.68, 116.779, 103.939]\n"
   ]
  },
  {
   "cell_type": "code",
   "execution_count": 96,
   "id": "8530cb4b-ffc2-4a0a-a0d0-07540cfe095d",
   "metadata": {},
   "outputs": [
    {
     "name": "stdout",
     "output_type": "stream",
     "text": [
      "[[0.9999998]]\n"
     ]
    }
   ],
   "source": [
    "result = model.predict(img)\n",
    "print(result)"
   ]
  },
  {
   "cell_type": "code",
   "execution_count": null,
   "id": "7fc7abb2-a560-4624-ab56-8f6845f080be",
   "metadata": {},
   "outputs": [],
   "source": []
  }
 ],
 "metadata": {
  "kernelspec": {
   "display_name": "Python 3 (ipykernel)",
   "language": "python",
   "name": "python3"
  },
  "language_info": {
   "codemirror_mode": {
    "name": "ipython",
    "version": 3
   },
   "file_extension": ".py",
   "mimetype": "text/x-python",
   "name": "python",
   "nbconvert_exporter": "python",
   "pygments_lexer": "ipython3",
   "version": "3.8.11"
  }
 },
 "nbformat": 4,
 "nbformat_minor": 5
}
