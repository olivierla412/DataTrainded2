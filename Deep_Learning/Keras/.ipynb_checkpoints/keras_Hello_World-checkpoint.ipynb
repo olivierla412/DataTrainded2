{
 "cells": [
  {
   "cell_type": "markdown",
   "id": "50993892",
   "metadata": {},
   "source": [
    "# Handwritten number recognition using Keras part 1."
   ]
  },
  {
   "cell_type": "code",
   "execution_count": 4,
   "id": "f4320086",
   "metadata": {},
   "outputs": [],
   "source": [
    "#!pip install keras"
   ]
  },
  {
   "cell_type": "code",
   "execution_count": 5,
   "id": "b2f7480d",
   "metadata": {},
   "outputs": [],
   "source": [
    "#!pip install tensorflow"
   ]
  },
  {
   "cell_type": "code",
   "execution_count": 11,
   "id": "81f66462",
   "metadata": {},
   "outputs": [],
   "source": [
    "## From keras.utils import to_categorical ## don't use this\n",
    "\n",
    "#from tensorflow.keras.utils import to_categorical # use this\n",
    "\n",
    "import matplotlib.pyplot as plt\n",
    "from keras.layers import Dense, Flatten\n",
    "from keras.models import Sequential\n",
    "from tensorflow.keras.utils import to_categorical\n",
    "from keras.datasets import mnist\n",
    "from keras import utils\n",
    "\n"
   ]
  },
  {
   "cell_type": "code",
   "execution_count": 15,
   "id": "f1b6fc96",
   "metadata": {},
   "outputs": [],
   "source": [
    "## loading the dataset\n",
    "(x_train,y_train),(x_test,y_test) = mnist.load_data()"
   ]
  },
  {
   "cell_type": "code",
   "execution_count": 16,
   "id": "cf4f2a1b",
   "metadata": {},
   "outputs": [
    {
     "data": {
      "text/plain": [
       "(10000,)"
      ]
     },
     "execution_count": 16,
     "metadata": {},
     "output_type": "execute_result"
    }
   ],
   "source": [
    "y_test.shape"
   ]
  },
  {
   "cell_type": "code",
   "execution_count": 17,
   "id": "5323acb2",
   "metadata": {},
   "outputs": [
    {
     "data": {
      "text/plain": [
       "(60000, 28, 28)"
      ]
     },
     "execution_count": 17,
     "metadata": {},
     "output_type": "execute_result"
    }
   ],
   "source": [
    "x_train.shape"
   ]
  },
  {
   "cell_type": "code",
   "execution_count": 20,
   "id": "8bb515cd",
   "metadata": {},
   "outputs": [
    {
     "data": {
      "image/png": "[encoded data removed]",
      "text/plain": [
       "<Figure size 720x288 with 10 Axes>"
      ]
     },
     "metadata": {
      "needs_background": "light"
     },
     "output_type": "display_data"
    }
   ],
   "source": [
    "fig,axes = plt.subplots(ncols=10,sharex=False,\n",
    "                       sharey=True,figsize =(10,4))\n",
    "for i in range(10):\n",
    "    axes[i].set_title(y_train[i])\n",
    "    axes[i].imshow(x_train[i],cmap='gray')\n",
    "    axes[i].get_xaxis().set_visible(False)\n",
    "    axes[i].get_yaxis().set_visible(False)\n",
    "plt.show()    "
   ]
  },
  {
   "cell_type": "code",
   "execution_count": 21,
   "id": "fc7a9a9a",
   "metadata": {},
   "outputs": [],
   "source": [
    "## converting x_train and y_train into categorical data\n",
    "y_train = to_categorical(y_train)\n",
    "y_test = to_categorical(y_test)"
   ]
  },
  {
   "cell_type": "code",
   "execution_count": 22,
   "id": "7a4f1ecf",
   "metadata": {},
   "outputs": [
    {
     "data": {
      "text/plain": [
       "(10000, 10)"
      ]
     },
     "execution_count": 22,
     "metadata": {},
     "output_type": "execute_result"
    }
   ],
   "source": [
    "y_test.shape"
   ]
  },
  {
   "cell_type": "code",
   "execution_count": 24,
   "id": "ac412564",
   "metadata": {},
   "outputs": [],
   "source": [
    "import pandas as pd"
   ]
  },
  {
   "cell_type": "code",
   "execution_count": 27,
   "id": "08d07e90",
   "metadata": {},
   "outputs": [],
   "source": [
    "pd.options.display.max_columns = None"
   ]
  },
  {
   "cell_type": "code",
   "execution_count": 28,
   "id": "960fab3c",
   "metadata": {},
   "outputs": [
    {
     "data": {
      "text/plain": [
       "array([[0., 0., 0., ..., 1., 0., 0.],\n",
       "       [0., 0., 1., ..., 0., 0., 0.],\n",
       "       [0., 1., 0., ..., 0., 0., 0.],\n",
       "       ...,\n",
       "       [0., 0., 0., ..., 0., 0., 0.],\n",
       "       [0., 0., 0., ..., 0., 0., 0.],\n",
       "       [0., 0., 0., ..., 0., 0., 0.]], dtype=float32)"
      ]
     },
     "execution_count": 28,
     "metadata": {},
     "output_type": "execute_result"
    }
   ],
   "source": [
    "y_test"
   ]
  },
  {
   "cell_type": "code",
   "execution_count": 69,
   "id": "009490b3",
   "metadata": {},
   "outputs": [],
   "source": [
    "model = Sequential()\n",
    "model.add(Flatten(input_shape=(28,28)))\n",
    "model.add(Dense(10,activation ='sigmoid'))\n",
    "model.add(Dense(8,activation ='sigmoid'))\n",
    "model.add(Dense(10,activation ='softmax'))"
   ]
  },
  {
   "cell_type": "code",
   "execution_count": 70,
   "id": "ef2fcc67",
   "metadata": {},
   "outputs": [
    {
     "name": "stdout",
     "output_type": "stream",
     "text": [
      "Model: \"sequential_3\"\n",
      "_________________________________________________________________\n",
      "Layer (type)                 Output Shape              Param #   \n",
      "=================================================================\n",
      "flatten_1 (Flatten)          (None, 784)               0         \n",
      "_________________________________________________________________\n",
      "dense_3 (Dense)              (None, 10)                7850      \n",
      "_________________________________________________________________\n",
      "dense_4 (Dense)              (None, 8)                 88        \n",
      "_________________________________________________________________\n",
      "dense_5 (Dense)              (None, 10)                90        \n",
      "=================================================================\n",
      "Total params: 8,028\n",
      "Trainable params: 8,028\n",
      "Non-trainable params: 0\n",
      "_________________________________________________________________\n"
     ]
    }
   ],
   "source": [
    "model.summary()"
   ]
  },
  {
   "cell_type": "code",
   "execution_count": 39,
   "id": "f11311ba",
   "metadata": {},
   "outputs": [],
   "source": [
    "#!pip install pydot"
   ]
  },
  {
   "cell_type": "code",
   "execution_count": 71,
   "id": "bbaf86ea",
   "metadata": {},
   "outputs": [],
   "source": [
    "model.compile(loss='categorical_crossentropy',\n",
    "             optimizer ='adam',\n",
    "             metrics='acc')"
   ]
  },
  {
   "cell_type": "code",
   "execution_count": 72,
   "id": "14796943",
   "metadata": {},
   "outputs": [
    {
     "name": "stdout",
     "output_type": "stream",
     "text": [
      "Epoch 1/20\n",
      "1875/1875 [==============================] - 2s 923us/step - loss: 1.6491 - acc: 0.5111 - val_loss: 1.2154 - val_acc: 0.6410\n",
      "Epoch 2/20\n",
      "1875/1875 [==============================] - 2s 814us/step - loss: 1.0632 - acc: 0.6621 - val_loss: 0.9022 - val_acc: 0.6992\n",
      "Epoch 3/20\n",
      "1875/1875 [==============================] - 2s 817us/step - loss: 0.8831 - acc: 0.7175 - val_loss: 0.7983 - val_acc: 0.7564\n",
      "Epoch 4/20\n",
      "1875/1875 [==============================] - 2s 836us/step - loss: 0.7733 - acc: 0.7525 - val_loss: 0.7289 - val_acc: 0.7642\n",
      "Epoch 5/20\n",
      "1875/1875 [==============================] - 2s 970us/step - loss: 0.7231 - acc: 0.7691 - val_loss: 0.7202 - val_acc: 0.7721\n",
      "Epoch 6/20\n",
      "1875/1875 [==============================] - 2s 1ms/step - loss: 0.6675 - acc: 0.7854 - val_loss: 0.6530 - val_acc: 0.7813\n",
      "Epoch 7/20\n",
      "1875/1875 [==============================] - 2s 861us/step - loss: 0.6620 - acc: 0.7880 - val_loss: 0.6269 - val_acc: 0.8015\n",
      "Epoch 8/20\n",
      "1875/1875 [==============================] - 2s 854us/step - loss: 0.6331 - acc: 0.8027 - val_loss: 0.5717 - val_acc: 0.8277\n",
      "Epoch 9/20\n",
      "1875/1875 [==============================] - 2s 904us/step - loss: 0.5994 - acc: 0.8139 - val_loss: 0.6052 - val_acc: 0.8164\n",
      "Epoch 10/20\n",
      "1875/1875 [==============================] - 2s 938us/step - loss: 0.5841 - acc: 0.8240 - val_loss: 0.5461 - val_acc: 0.8399\n",
      "Epoch 11/20\n",
      "1875/1875 [==============================] - 2s 870us/step - loss: 0.5722 - acc: 0.8288 - val_loss: 0.5623 - val_acc: 0.8275\n",
      "Epoch 12/20\n",
      "1875/1875 [==============================] - 2s 922us/step - loss: 0.5799 - acc: 0.8291 - val_loss: 0.5731 - val_acc: 0.8242\n",
      "Epoch 13/20\n",
      "1875/1875 [==============================] - 2s 877us/step - loss: 0.5537 - acc: 0.8403 - val_loss: 0.4995 - val_acc: 0.8576\n",
      "Epoch 14/20\n",
      "1875/1875 [==============================] - 2s 862us/step - loss: 0.5614 - acc: 0.8340 - val_loss: 0.5039 - val_acc: 0.8551\n",
      "Epoch 15/20\n",
      "1875/1875 [==============================] - 2s 889us/step - loss: 0.5471 - acc: 0.8371 - val_loss: 0.4916 - val_acc: 0.8594\n",
      "Epoch 16/20\n",
      "1875/1875 [==============================] - 2s 875us/step - loss: 0.5351 - acc: 0.8428 - val_loss: 0.5341 - val_acc: 0.8437\n",
      "Epoch 17/20\n",
      "1875/1875 [==============================] - 2s 919us/step - loss: 0.5268 - acc: 0.8471 - val_loss: 0.5206 - val_acc: 0.8550\n",
      "Epoch 18/20\n",
      "1875/1875 [==============================] - 2s 972us/step - loss: 0.5196 - acc: 0.8519 - val_loss: 0.5058 - val_acc: 0.8607\n",
      "Epoch 19/20\n",
      "1875/1875 [==============================] - 2s 940us/step - loss: 0.5035 - acc: 0.8600 - val_loss: 0.4806 - val_acc: 0.8647\n",
      "Epoch 20/20\n",
      "1875/1875 [==============================] - 2s 965us/step - loss: 0.5055 - acc: 0.8531 - val_loss: 0.4663 - val_acc: 0.8648\n"
     ]
    },
    {
     "data": {
      "text/plain": [
       "<keras.callbacks.History at 0x7fa61fd12c10>"
      ]
     },
     "execution_count": 72,
     "metadata": {},
     "output_type": "execute_result"
    }
   ],
   "source": [
    "model.fit(x_train,y_train, epochs=20,\n",
    "         validation_data=(x_test, y_test))"
   ]
  },
  {
   "cell_type": "code",
   "execution_count": 73,
   "id": "c723ac44",
   "metadata": {},
   "outputs": [],
   "source": [
    "## saving the model\n",
    "model.save('mnist_model.h5')"
   ]
  },
  {
   "cell_type": "code",
   "execution_count": 74,
   "id": "3b13ae97",
   "metadata": {},
   "outputs": [
    {
     "name": "stdout",
     "output_type": "stream",
     "text": [
      "keras_Hello_World.ipynb  mnist_model.h5\r\n"
     ]
    }
   ],
   "source": [
    "ls"
   ]
  },
  {
   "cell_type": "markdown",
   "id": "6f5b8916",
   "metadata": {},
   "source": [
    "# Handwritten number recognition using Keras part 2 and Google Colab"
   ]
  },
  {
   "cell_type": "code",
   "execution_count": null,
   "id": "61446b56",
   "metadata": {},
   "outputs": [],
   "source": []
  },
  {
   "cell_type": "code",
   "execution_count": null,
   "id": "fd477416",
   "metadata": {},
   "outputs": [],
   "source": []
  },
  {
   "cell_type": "code",
   "execution_count": 1,
   "id": "7f7710cb",
   "metadata": {},
   "outputs": [],
   "source": [
    "import matplotlib.pyplot as plt\n",
    "from keras.layers import Dense, Flatten\n",
    "from keras.models import Sequential\n",
    "from tensorflow.keras.utils import to_categorical\n",
    "from keras.datasets import mnist\n",
    "from keras import utils"
   ]
  },
  {
   "cell_type": "code",
   "execution_count": null,
   "id": "26722bf9",
   "metadata": {},
   "outputs": [],
   "source": [
    "import matplotlib.pyplot as plt\n",
    "from keras.layers import Dense, Flatten\n",
    "from keras.mode"
   ]
  }
 ],
 "metadata": {
  "kernelspec": {
   "display_name": "Python 3 (ipykernel)",
   "language": "python",
   "name": "python3"
  },
  "language_info": {
   "codemirror_mode": {
    "name": "ipython",
    "version": 3
   },
   "file_extension": ".py",
   "mimetype": "text/x-python",
   "name": "python",
   "nbconvert_exporter": "python",
   "pygments_lexer": "ipython3",
   "version": "3.8.11"
  }
 },
 "nbformat": 4,
 "nbformat_minor": 5
}
