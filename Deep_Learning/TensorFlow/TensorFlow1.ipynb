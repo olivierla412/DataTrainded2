{
 "cells": [
  {
   "cell_type": "code",
   "execution_count": 1,
   "id": "69fad982",
   "metadata": {},
   "outputs": [],
   "source": [
    "import tensorflow as tf"
   ]
  },
  {
   "cell_type": "code",
   "execution_count": 2,
   "id": "5536e62a",
   "metadata": {},
   "outputs": [
    {
     "data": {
      "text/plain": [
       "'2.6.0'"
      ]
     },
     "execution_count": 2,
     "metadata": {},
     "output_type": "execute_result"
    }
   ],
   "source": [
    "tf.__version__"
   ]
  },
  {
   "cell_type": "code",
   "execution_count": 3,
   "id": "587fd287",
   "metadata": {},
   "outputs": [],
   "source": [
    "tf.compat.v1.disable_eager_execution()\n",
    "\n",
    "# Construct a `Session` to execute the graph.\n",
    "sess = tf.compat.v1.Session()\n",
    "a = tf.constant(5.0)\n",
    "b = tf.constant(6.0)\n",
    "c = a * b\n"
   ]
  },
  {
   "cell_type": "code",
   "execution_count": 4,
   "id": "e06bff0f",
   "metadata": {},
   "outputs": [],
   "source": [
    "output = sess.run(c)"
   ]
  },
  {
   "cell_type": "code",
   "execution_count": 5,
   "id": "dc6f9e9b",
   "metadata": {},
   "outputs": [
    {
     "name": "stdout",
     "output_type": "stream",
     "text": [
      "30.0\n"
     ]
    }
   ],
   "source": [
    "print(output)"
   ]
  },
  {
   "cell_type": "code",
   "execution_count": 7,
   "id": "be1f92d3",
   "metadata": {},
   "outputs": [
    {
     "name": "stdout",
     "output_type": "stream",
     "text": [
      "c:0\n",
      "c_1:0\n",
      "c_2:0\n"
     ]
    }
   ],
   "source": [
    "with tf.Graph().as_default():\n",
    "    c1 = tf.constant(4,dtype=tf.float64,name='c')\n",
    "    c2 = tf.constant(4,dtype=tf.int32,name='c')\n",
    "    c3 = tf.constant(4,dtype=tf.int32,name='c')\n",
    "    \n",
    "print(c1.name)\n",
    "print(c2.name)   \n",
    "print(c3.name)\n",
    " "
   ]
  },
  {
   "cell_type": "code",
   "execution_count": 8,
   "id": "d0124f0b",
   "metadata": {},
   "outputs": [],
   "source": [
    "name_list = tf.constant(['Olivier','Inocent','Yvette','Berangine','Jackson'])"
   ]
  },
  {
   "cell_type": "code",
   "execution_count": 11,
   "id": "f0a2e379",
   "metadata": {},
   "outputs": [],
   "source": [
    "sess = tf.compat.v1.Session()\n",
    "names = sess.run(name_list)"
   ]
  },
  {
   "cell_type": "code",
   "execution_count": 12,
   "id": "552dc804",
   "metadata": {},
   "outputs": [
    {
     "name": "stdout",
     "output_type": "stream",
     "text": [
      "[b'Olivier' b'Inocent' b'Yvette' b'Berangine' b'Jackson']\n"
     ]
    }
   ],
   "source": [
    "print(names)"
   ]
  },
  {
   "cell_type": "code",
   "execution_count": 19,
   "id": "95b63fed",
   "metadata": {},
   "outputs": [
    {
     "name": "stdout",
     "output_type": "stream",
     "text": [
      "\n",
      " x is :\n",
      "b'Olivier'\n"
     ]
    }
   ],
   "source": [
    "for x in names:\n",
    "    if x ==b'Olivier':\n",
    "        print(\"\\n x is :\\n{}\".format(x))"
   ]
  },
  {
   "cell_type": "markdown",
   "id": "d75cdfd2",
   "metadata": {},
   "source": [
    "### Placeholder"
   ]
  },
  {
   "cell_type": "code",
   "execution_count": 24,
   "id": "04fef09a",
   "metadata": {},
   "outputs": [
    {
     "name": "stdout",
     "output_type": "stream",
     "text": [
      "WARNING:tensorflow:From /opt/anaconda3/lib/python3.8/site-packages/tensorflow/python/compat/v2_compat.py:101: disable_resource_variables (from tensorflow.python.ops.variable_scope) is deprecated and will be removed in a future version.\n",
      "Instructions for updating:\n",
      "non-resource variables are not supported in the long term\n"
     ]
    }
   ],
   "source": [
    "import tensorflow.compat.v1 as tf\n",
    "\n",
    "tf.disable_v2_behavior()\n",
    "#x = tf.placeholder(shape=[None, 2], dtype=tf.float32)\n"
   ]
  },
  {
   "cell_type": "code",
   "execution_count": 28,
   "id": "bd490d56",
   "metadata": {},
   "outputs": [],
   "source": [
    "x = tf.placeholder(tf.string)\n",
    "y = tf.placeholder(tf.string)"
   ]
  },
  {
   "cell_type": "code",
   "execution_count": 29,
   "id": "d17b3418",
   "metadata": {},
   "outputs": [],
   "source": [
    "sess = tf.compat.v1.Session()"
   ]
  },
  {
   "cell_type": "code",
   "execution_count": 31,
   "id": "6981f803",
   "metadata": {},
   "outputs": [
    {
     "name": "stdout",
     "output_type": "stream",
     "text": [
      "Good morning oliver\n"
     ]
    }
   ],
   "source": [
    "output1 = sess.run(x,feed_dict={x:'Good morning oliver'})\n",
    "print(output1)"
   ]
  },
  {
   "cell_type": "code",
   "execution_count": 36,
   "id": "8e151893",
   "metadata": {},
   "outputs": [],
   "source": [
    "x = tf.placeholder('float',None)\n",
    "y = x**2\n",
    "#z = x*2"
   ]
  },
  {
   "cell_type": "code",
   "execution_count": 38,
   "id": "779d9723",
   "metadata": {},
   "outputs": [
    {
     "name": "stdout",
     "output_type": "stream",
     "text": [
      "[ 4.  9. 16.]\n"
     ]
    }
   ],
   "source": [
    "result = sess.run(y,feed_dict={x:[2,3,4]})\n",
    "print(result)"
   ]
  },
  {
   "cell_type": "markdown",
   "id": "36c90c80",
   "metadata": {},
   "source": [
    "### Operators"
   ]
  },
  {
   "cell_type": "code",
   "execution_count": 39,
   "id": "bc3e05bf",
   "metadata": {},
   "outputs": [],
   "source": [
    "x = tf.add(5,2)"
   ]
  },
  {
   "cell_type": "code",
   "execution_count": 40,
   "id": "ccd2ef44",
   "metadata": {},
   "outputs": [
    {
     "data": {
      "text/plain": [
       "7"
      ]
     },
     "execution_count": 40,
     "metadata": {},
     "output_type": "execute_result"
    }
   ],
   "source": [
    "sess.run(x)"
   ]
  },
  {
   "cell_type": "code",
   "execution_count": 41,
   "id": "910026c5",
   "metadata": {},
   "outputs": [
    {
     "name": "stdout",
     "output_type": "stream",
     "text": [
      "42\n"
     ]
    }
   ],
   "source": [
    "y = tf.multiply(6,7)\n",
    "print(sess.run(y))"
   ]
  },
  {
   "cell_type": "markdown",
   "id": "e493190c",
   "metadata": {},
   "source": [
    "## MNIST DATASET"
   ]
  },
  {
   "cell_type": "code",
   "execution_count": 48,
   "id": "9b08ed80",
   "metadata": {},
   "outputs": [],
   "source": [
    "from __future__ import print_function"
   ]
  },
  {
   "cell_type": "code",
   "execution_count": 49,
   "id": "cb845bdc",
   "metadata": {},
   "outputs": [],
   "source": [
    "## Importing mnist dataset\n",
    "mnist = tf.keras.datasets.mnist"
   ]
  },
  {
   "cell_type": "code",
   "execution_count": 50,
   "id": "9886b6eb",
   "metadata": {},
   "outputs": [],
   "source": [
    "(x_train, y_train),(x_test, y_test) = mnist.load_data()"
   ]
  },
  {
   "cell_type": "code",
   "execution_count": 52,
   "id": "3dc05119",
   "metadata": {},
   "outputs": [],
   "source": [
    "# !unzip"
   ]
  },
  {
   "cell_type": "code",
   "execution_count": 58,
   "id": "4daedccb",
   "metadata": {},
   "outputs": [],
   "source": [
    "import matplotlib.pyplot as plt\n",
    "%matplotlib inline"
   ]
  },
  {
   "cell_type": "code",
   "execution_count": 61,
   "id": "33b103e0",
   "metadata": {},
   "outputs": [
    {
     "data": {
      "image/png": "[encoded data removed]",
      "text/plain": [
       "<Figure size 432x288 with 1 Axes>"
      ]
     },
     "metadata": {
      "needs_background": "light"
     },
     "output_type": "display_data"
    }
   ],
   "source": [
    "plt.imshow(x_train[3])\n",
    "plt.show()\n"
   ]
  },
  {
   "cell_type": "code",
   "execution_count": null,
   "id": "2c462d52",
   "metadata": {},
   "outputs": [],
   "source": []
  }
 ],
 "metadata": {
  "kernelspec": {
   "display_name": "Python 3",
   "language": "python",
   "name": "python3"
  },
  "language_info": {
   "codemirror_mode": {
    "name": "ipython",
    "version": 3
   },
   "file_extension": ".py",
   "mimetype": "text/x-python",
   "name": "python",
   "nbconvert_exporter": "python",
   "pygments_lexer": "ipython3",
   "version": "3.8.8"
  }
 },
 "nbformat": 4,
 "nbformat_minor": 5
}
